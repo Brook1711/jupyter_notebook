{
 "cells": [
  {
   "cell_type": "markdown",
   "id": "2b6f99b6",
   "metadata": {},
   "source": [
    "# Active RIS vs. Passive RIS: Which Will Prevail in 6G?\n",
    "https://arxiv.org/pdf/2103.15154.pdf"
   ]
  },
  {
   "cell_type": "markdown",
   "id": "4ad6a3b3",
   "metadata": {},
   "source": [
    "## abstract\n",
    "> "
   ]
  },
  {
   "cell_type": "code",
   "execution_count": null,
   "id": "228e2115",
   "metadata": {},
   "outputs": [],
   "source": []
  }
 ],
 "metadata": {
  "kernelspec": {
   "display_name": "tf-2.5.0",
   "language": "python",
   "name": "tf-2.5.0"
  },
  "language_info": {
   "codemirror_mode": {
    "name": "ipython",
    "version": 3
   },
   "file_extension": ".py",
   "mimetype": "text/x-python",
   "name": "python",
   "nbconvert_exporter": "python",
   "pygments_lexer": "ipython3",
   "version": "3.8.8"
  }
 },
 "nbformat": 4,
 "nbformat_minor": 5
}
