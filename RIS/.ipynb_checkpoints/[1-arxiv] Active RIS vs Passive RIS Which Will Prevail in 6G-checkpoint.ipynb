{
 "cells": [
  {
   "cell_type": "markdown",
   "id": "2b6f99b6",
   "metadata": {},
   "source": [
    "# Active RIS vs. Passive RIS: Which Will Prevail in 6G?\n",
    "https://arxiv.org/pdf/2103.15154.pdf"
   ]
  },
  {
   "cell_type": "markdown",
   "id": "4ad6a3b3",
   "metadata": {},
   "source": [
    "## abstract\n",
    "> From 1G to 5G, wireless channels have been traditionally considered to be uncontrollable. Thanks to the recent advances in meta-materials, reconfigurable intelligent surfaces (RISs) have emerged as a new paradigm for controlling wireless channels intelligently, thus making it a revolutionary technique for future 6G wireless communications. However, due to the “double fading” effect, RIS only achieves a negligible capacity gain in typical communication scenarios, which however has been widely ignored in many existing works. In this paper, the concept of active RIS is proposed to break this fundamental physical limit. Different from the existing passive RIS tha\n",
    "t reflects signals passively without amplification, active RIS can actively amplify the reflected signals. We then develop a signal model for active RIS, which is validated through experimental measurements. Based on this new signal model, we analyze the capacity gain  chievable by active RIS and formulate the capacity maximization problem in an active RIS aided system. Next, a joint transmit and reflect precoding algorithm is proposed to solve this problem. Finally, extensive results show that, compared with the baseline without RIS, the existing passive RIS can realize a negligible capacity gain of only 3% in typical application scenarios, while the proposed active RIS can achieve a noticeable capacity gain of 129%, thus overcoming the fundamental limit of “double fading” effect.\n",
    "\n",
    "从1G到5G，传统观点上认为无线信道是不可以控制的。归功于最近超材料（meta-material）技术的发展"
   ]
  },
  {
   "cell_type": "code",
   "execution_count": null,
   "id": "228e2115",
   "metadata": {},
   "outputs": [],
   "source": []
  }
 ],
 "metadata": {
  "kernelspec": {
   "display_name": "tf-2.5.0",
   "language": "python",
   "name": "tf-2.5.0"
  },
  "language_info": {
   "codemirror_mode": {
    "name": "ipython",
    "version": 3
   },
   "file_extension": ".py",
   "mimetype": "text/x-python",
   "name": "python",
   "nbconvert_exporter": "python",
   "pygments_lexer": "ipython3",
   "version": "3.8.8"
  }
 },
 "nbformat": 4,
 "nbformat_minor": 5
}
