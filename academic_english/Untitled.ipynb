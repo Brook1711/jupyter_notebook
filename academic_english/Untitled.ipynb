{
 "cells": [
  {
   "cell_type": "markdown",
   "id": "179893e5",
   "metadata": {},
   "source": [
    "# Words\n",
    "emerged 新兴技术兴起\n",
    "    e.g. have emerged as a new paradigm for \n",
    "    \n",
    "paradigm 范例"
   ]
  },
  {
   "cell_type": "code",
   "execution_count": null,
   "id": "f8761435",
   "metadata": {},
   "outputs": [],
   "source": []
  }
 ],
 "metadata": {
  "kernelspec": {
   "display_name": "tf-2.5.0",
   "language": "python",
   "name": "tf-2.5.0"
  },
  "language_info": {
   "codemirror_mode": {
    "name": "ipython",
    "version": 3
   },
   "file_extension": ".py",
   "mimetype": "text/x-python",
   "name": "python",
   "nbconvert_exporter": "python",
   "pygments_lexer": "ipython3",
   "version": "3.8.8"
  }
 },
 "nbformat": 4,
 "nbformat_minor": 5
}
